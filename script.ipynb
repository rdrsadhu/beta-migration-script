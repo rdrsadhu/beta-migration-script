{
 "cells": [
  {
   "cell_type": "markdown",
   "metadata": {},
   "source": [
    "**Steps:**\n",
    "\n",
    "1. Move to directory where you want to save the converted wiki-page\n",
    "2. Run this script\n",
    "\n",
    "\n",
    "**Parameters to customize for each page:**\n",
    "\n",
    "```\n",
    "- pagename \n",
    "- markup_format\n",
    "```\n",
    "\n",
    "\n",
    "**Pseudo-code**\n",
    "\n",
    "```\n",
    "  # using [Mediawiki API](https://www.mediawiki.org/wiki/API:Main_page)\n",
    "  \n",
    "  1. fetch wikitext from 'pagename'\n",
    "  2. fetch list of images/files used in 'pagename'\n",
    "  3. fetch all images/files in the list\n",
    "\n",
    "  # using [pandoc](https://pandoc.org/)\n",
    "  \n",
    "  4. convert wikitext to 'markup_format'\n",
    "```\n",
    "\n"
   ]
  },
  {
   "cell_type": "code",
   "execution_count": null,
   "metadata": {},
   "outputs": [],
   "source": []
  },
  {
   "cell_type": "code",
   "execution_count": null,
   "metadata": {},
   "outputs": [],
   "source": [
    "# the page to convert\n",
    "# in this case 'xyz', where the page to convert is wiki.sugarlabs.org/go/Activities/xyz\n",
    "\n",
    "# for example: when converting wiki.sugarlabs.org/go/Activities/Calculate\n",
    "# pagename should be 'Calculate'\n",
    "pagename = 'your-pagename-here'\n",
    "\n",
    "# pandoc can deal with a lot of markup_formats\n",
    "# I've used 1 for reStructuredText and anything-else for Markdown\n",
    "markup_format = 'x'"
   ]
  },
  {
   "cell_type": "code",
   "execution_count": null,
   "metadata": {},
   "outputs": [],
   "source": []
  },
  {
   "cell_type": "code",
   "execution_count": null,
   "metadata": {},
   "outputs": [],
   "source": [
    "# Request is an easy-to-read HTTP library in Python\n",
    "# Used to download wikitext and images\n",
    "# Read: http://docs.python-requests.org/en/master/\n",
    "import requests\n",
    "\n",
    "# os provides a portable way of using operating system dependent functionality\n",
    "# Used to Execute a command(string) in a subshell.\n",
    "# Read: https://docs.python.org/3/library/os.html#os.system\n",
    "import os"
   ]
  },
  {
   "cell_type": "code",
   "execution_count": null,
   "metadata": {},
   "outputs": [],
   "source": []
  },
  {
   "cell_type": "code",
   "execution_count": null,
   "metadata": {},
   "outputs": [],
   "source": [
    "# using mediawiki API to get the wikitext \n",
    "url = 'https://wiki.sugarlabs.org/api.php?action=parse&page=Activities/'+pagename+'&prop=wikitext&format=json'"
   ]
  },
  {
   "cell_type": "code",
   "execution_count": null,
   "metadata": {},
   "outputs": [],
   "source": [
    "# GET request to url, reutrned value is stored in data\n",
    "data = requests.get(url) "
   ]
  },
  {
   "cell_type": "code",
   "execution_count": null,
   "metadata": {},
   "outputs": [],
   "source": [
    "if data.status_code == 200:\n",
    "    \n",
    "    # storing result in json form\n",
    "    json_obj = data.json()\n",
    "    \n",
    "    # fetching wikitext from json_obj\n",
    "    wikitext = json_obj['parse']['wikitext']['*']\n",
    "    \n",
    "    # saving wikitext in a temporary file for conversion\n",
    "    try:\n",
    "        file_location = 'my-temp-wikitext-file'\n",
    "        file = open(file_location,'w')\n",
    "        file.write(wikitext)\n",
    "        print('Wikitext Successfully written to file.')\n",
    "    finally:\n",
    "        file.close()\n",
    "\n",
    "else:\n",
    "    print('Sorry! Received status_code of GET request = {}'\n",
    "          .format(data.status_code))"
   ]
  },
  {
   "cell_type": "code",
   "execution_count": null,
   "metadata": {},
   "outputs": [],
   "source": []
  },
  {
   "cell_type": "code",
   "execution_count": null,
   "metadata": {},
   "outputs": [],
   "source": [
    "# using pandoc to convert from mediawiki markup to markdown/reStructuredText\n",
    "convertedfilename = pagename\n",
    "\n",
    "if markup_format==1:\n",
    "    convertedfileformat = '.rst'\n",
    "    command = 'pandoc my-temp-wikitext-file -f mediawiki -t rst -s -o '+convertedfilename+convertedfileformat\n",
    "else:\n",
    "    convertedfileformat = '.md'\n",
    "    command = 'pandoc my-temp-wikitext-file -f mediawiki -t markdown -s -o '+convertedfilename+convertedfileformat\n",
    "\n",
    "os.system(command)"
   ]
  },
  {
   "cell_type": "code",
   "execution_count": null,
   "metadata": {},
   "outputs": [],
   "source": [
    "#remove temporary wiki-text-file\n",
    "command = 'rm my-temp-wikitext-file'\n",
    "os.system(command)"
   ]
  },
  {
   "cell_type": "code",
   "execution_count": null,
   "metadata": {},
   "outputs": [],
   "source": []
  },
  {
   "cell_type": "code",
   "execution_count": null,
   "metadata": {},
   "outputs": [],
   "source": [
    "# url to get the images used in wiki-page\n",
    "imageurl = 'https://wiki.sugarlabs.org/api.php?action=parse&page=Activities/'+pagename+'&prop=images&format=json'"
   ]
  },
  {
   "cell_type": "code",
   "execution_count": null,
   "metadata": {},
   "outputs": [],
   "source": [
    "# getting data about images used\n",
    "imagedata = requests.get(imageurl)"
   ]
  },
  {
   "cell_type": "code",
   "execution_count": null,
   "metadata": {},
   "outputs": [],
   "source": [
    "# list of all images in wiki-page\n",
    "\n",
    "if imagedata.status_code == 200:\n",
    "    \n",
    "    img_json_obj = imagedata.json()\n",
    "    \n",
    "    imagelist = img_json_obj['parse']['images']\n",
    "    \n",
    "    print('List of images in wiki:')\n",
    "    print(*imagelist, sep='\\n')\n",
    "\n",
    "else:\n",
    "    print('Sorry! Received status_code of GET request = {}'\n",
    "          .format(imagedata.status_code))"
   ]
  },
  {
   "cell_type": "code",
   "execution_count": null,
   "metadata": {},
   "outputs": [],
   "source": []
  },
  {
   "cell_type": "code",
   "execution_count": null,
   "metadata": {},
   "outputs": [],
   "source": [
    "# downloading each individual image\n",
    "\n",
    "for image in imagelist:\n",
    "    \n",
    "    try:\n",
    "        # Read: https://www.mediawiki.org/wiki/API:Imageinfo\n",
    "        image_info_url = 'https://wiki.sugarlabs.org/api.php?action=query&titles=File:'+image+'&prop=imageinfo&iiprop=url&format=json'\n",
    "    \n",
    "        # information about the image\n",
    "        image_info = requests.get(image_info_url)\n",
    "    \n",
    "        # pages which satisfy given image condition in image_info_url\n",
    "        imagepage = image_info.json()['query']['pages']\n",
    "    \n",
    "        #pageid for all pages in imagepage\n",
    "        keys = []\n",
    "        for k in imagepage:\n",
    "            keys.append(k)\n",
    "    \n",
    "        for pageid in keys:\n",
    "        \n",
    "            # url of image in a given page-id\n",
    "            imageurl = imagepage[pageid]['imageinfo'][0]['url']\n",
    "            print(imageurl)\n",
    "        \n",
    "            # downloading the exact iamge\n",
    "            imagefile = requests.get(imageurl)\n",
    "        \n",
    "            try:\n",
    "                imagefile_loc = image\n",
    "                file = open(imagefile_loc, 'wb')\n",
    "                file.write(imagefile.content)\n",
    "                print(\"File {} saved\".format(image))\n",
    "            finally:\n",
    "                file.close()\n",
    "        print()\n",
    "    \n",
    "    except:\n",
    "        print(\"Failed to save {}\".format(image))\n",
    "        print()\n",
    "    "
   ]
  },
  {
   "cell_type": "code",
   "execution_count": null,
   "metadata": {},
   "outputs": [],
   "source": []
  },
  {
   "cell_type": "code",
   "execution_count": null,
   "metadata": {},
   "outputs": [],
   "source": [
    "print('Conversion Complete')"
   ]
  },
  {
   "cell_type": "code",
   "execution_count": null,
   "metadata": {},
   "outputs": [],
   "source": []
  }
 ],
 "metadata": {
  "kernelspec": {
   "display_name": "Python 3",
   "language": "python",
   "name": "python3"
  },
  "language_info": {
   "codemirror_mode": {
    "name": "ipython",
    "version": 3
   },
   "file_extension": ".py",
   "mimetype": "text/x-python",
   "name": "python",
   "nbconvert_exporter": "python",
   "pygments_lexer": "ipython3",
   "version": "3.6.4"
  }
 },
 "nbformat": 4,
 "nbformat_minor": 2
}
