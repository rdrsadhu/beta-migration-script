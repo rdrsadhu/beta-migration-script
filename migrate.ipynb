{
 "cells": [
  {
   "cell_type": "code",
   "execution_count": 1,
   "metadata": {},
   "outputs": [
    {
     "data": {
      "text/plain": [
       "'\\nParameters to customize for every new page\\nor put in a list before running loop\\n\\n1. pagename\\n2. forked_repo_url\\n'"
      ]
     },
     "execution_count": 1,
     "metadata": {},
     "output_type": "execute_result"
    }
   ],
   "source": [
    "'''\n",
    "Parameters to customize for every new page\n",
    "or put in a list before running loop\n",
    "\n",
    "1. pagename\n",
    "2. forked_repo_url\n",
    "'''"
   ]
  },
  {
   "cell_type": "code",
   "execution_count": 2,
   "metadata": {},
   "outputs": [],
   "source": [
    "#the page to migrate\n",
    "pagename = 'Cookie_Search'\n",
    "\n",
    "forked_repo_url = 'https://github.com/rdrsadhu/cookie-search-activity.git'"
   ]
  },
  {
   "cell_type": "code",
   "execution_count": 3,
   "metadata": {},
   "outputs": [],
   "source": [
    "# Request is an easy-to-read HTTP library in Python\n",
    "# See: http://docs.python-requests.org/en/master/\n",
    "import requests"
   ]
  },
  {
   "cell_type": "code",
   "execution_count": 4,
   "metadata": {},
   "outputs": [],
   "source": [
    "# os helps to run a process as if it was ran from Terminal\n",
    "import os"
   ]
  },
  {
   "cell_type": "code",
   "execution_count": 5,
   "metadata": {},
   "outputs": [
    {
     "data": {
      "text/plain": [
       "0"
      ]
     },
     "execution_count": 5,
     "metadata": {},
     "output_type": "execute_result"
    }
   ],
   "source": [
    "#folder to store all related file and use as git repo\n",
    "command = 'mkdir '+pagename\n",
    "os.system(command)"
   ]
  },
  {
   "cell_type": "code",
   "execution_count": 6,
   "metadata": {},
   "outputs": [],
   "source": [
    "# changing directory\n",
    "\n",
    "path = pagename\n",
    "os.chdir(path)"
   ]
  },
  {
   "cell_type": "code",
   "execution_count": 7,
   "metadata": {},
   "outputs": [
    {
     "data": {
      "text/plain": [
       "0"
      ]
     },
     "execution_count": 7,
     "metadata": {},
     "output_type": "execute_result"
    }
   ],
   "source": [
    "#Initializing git repository\n",
    "os.system('git init')"
   ]
  },
  {
   "cell_type": "code",
   "execution_count": 8,
   "metadata": {},
   "outputs": [
    {
     "data": {
      "text/plain": [
       "0"
      ]
     },
     "execution_count": 8,
     "metadata": {},
     "output_type": "execute_result"
    }
   ],
   "source": [
    "command = 'git remote add origin '+forked_repo_url\n",
    "\n",
    "os.system(command)"
   ]
  },
  {
   "cell_type": "code",
   "execution_count": 9,
   "metadata": {},
   "outputs": [
    {
     "data": {
      "text/plain": [
       "0"
      ]
     },
     "execution_count": 9,
     "metadata": {},
     "output_type": "execute_result"
    }
   ],
   "source": [
    "os.system('git pull origin master')"
   ]
  },
  {
   "cell_type": "code",
   "execution_count": 10,
   "metadata": {},
   "outputs": [],
   "source": [
    "# using mediawiki API to get the wikitext\n",
    "# see https://www.mediawiki.org/wiki/API:Main_page\n",
    "url = 'https://wiki.sugarlabs.org/api.php?action=parse&page=Activities/'+pagename+'&prop=wikitext&format=json'"
   ]
  },
  {
   "cell_type": "code",
   "execution_count": 11,
   "metadata": {},
   "outputs": [],
   "source": [
    "# GET request to url, reutrned value is stored in data\n",
    "data = requests.get(url) "
   ]
  },
  {
   "cell_type": "code",
   "execution_count": 12,
   "metadata": {},
   "outputs": [
    {
     "name": "stdout",
     "output_type": "stream",
     "text": [
      "Wikitext Successfully written to file.\n"
     ]
    }
   ],
   "source": [
    "if data.status_code == 200:\n",
    "    \n",
    "    # storing result in json form\n",
    "    json_obj = data.json()\n",
    "    \n",
    "    # fetching wikitext from json_obj\n",
    "    wikitext = json_obj['parse']['wikitext']['*']\n",
    "    \n",
    "    # storing wikitext in a file to convert using pandoc\n",
    "    try:\n",
    "        #file_location = pagename+'/wikitoconvert'\n",
    "        file_location = 'wikitoconvert'\n",
    "        file = open(file_location,'w')\n",
    "        file.write(wikitext)\n",
    "        print('Wikitext Successfully written to file.')\n",
    "    finally:\n",
    "        file.close()\n",
    "\n",
    "else:\n",
    "    print('Sorry! Received status_code of GET request = {}'\n",
    "          .format(data.status_code))"
   ]
  },
  {
   "cell_type": "code",
   "execution_count": 13,
   "metadata": {},
   "outputs": [
    {
     "data": {
      "text/plain": [
       "0"
      ]
     },
     "execution_count": 13,
     "metadata": {},
     "output_type": "execute_result"
    }
   ],
   "source": [
    "# using pandoc to convert from mediawiki markup to markdown\n",
    "\n",
    "#command = 'pandoc '+pagename+'/wikitoconvert -f mediawiki -t markdown -s -o '+pagename+'/README.md'\n",
    "command = 'pandoc wikitoconvert -f mediawiki -t markdown -s -o README.md'\n",
    "os.system(command)"
   ]
  },
  {
   "cell_type": "code",
   "execution_count": 14,
   "metadata": {},
   "outputs": [],
   "source": [
    "# url to get the images used in wiki-page\n",
    "imageurl = 'https://wiki.sugarlabs.org/api.php?action=parse&page=Activities/'+pagename+'&prop=images&format=json'"
   ]
  },
  {
   "cell_type": "code",
   "execution_count": 15,
   "metadata": {},
   "outputs": [],
   "source": [
    "# getting data about images used\n",
    "imagedata = requests.get(imageurl)"
   ]
  },
  {
   "cell_type": "code",
   "execution_count": 16,
   "metadata": {},
   "outputs": [
    {
     "name": "stdout",
     "output_type": "stream",
     "text": [
      "List of images in wiki:\n",
      "['CookieSearch-win.png', 'CookieSearch-lose.png', 'CookieSearch-scores.png', 'CookieSearch-icon.svg', 'CookieSearch.png', 'CookieSearch-toolbar.png']\n"
     ]
    }
   ],
   "source": [
    "# list of all images in wiki-page\n",
    "\n",
    "if imagedata.status_code == 200:\n",
    "    \n",
    "    img_json_obj = imagedata.json()\n",
    "    \n",
    "    imagelist = img_json_obj['parse']['images']\n",
    "    \n",
    "    print('List of images in wiki:')\n",
    "    print(imagelist)\n",
    "\n",
    "else:\n",
    "    print('Sorry! Received status_code of GET request = {}'\n",
    "          .format(imagedata.status_code))"
   ]
  },
  {
   "cell_type": "code",
   "execution_count": 17,
   "metadata": {},
   "outputs": [
    {
     "name": "stdout",
     "output_type": "stream",
     "text": [
      "https://wiki.sugarlabs.org/images/b/ba/CookieSearch-win.png\n",
      "File CookieSearch-win.png saved\n",
      "\n",
      "https://wiki.sugarlabs.org/images/6/62/CookieSearch-lose.png\n",
      "File CookieSearch-lose.png saved\n",
      "\n",
      "https://wiki.sugarlabs.org/images/0/09/CookieSearch-scores.png\n",
      "File CookieSearch-scores.png saved\n",
      "\n",
      "https://wiki.sugarlabs.org/images/e/ed/CookieSearch-icon.svg\n",
      "File CookieSearch-icon.svg saved\n",
      "\n",
      "https://wiki.sugarlabs.org/images/d/da/CookieSearch.png\n",
      "File CookieSearch.png saved\n",
      "\n",
      "https://wiki.sugarlabs.org/images/c/cd/CookieSearch-toolbar.png\n",
      "File CookieSearch-toolbar.png saved\n",
      "\n"
     ]
    }
   ],
   "source": [
    "# downloading each individual image\n",
    "\n",
    "for image in imagelist:\n",
    "    \n",
    "    # see: https://www.mediawiki.org/wiki/API:Imageinfo\n",
    "    image_info_url = 'https://wiki.sugarlabs.org/api.php?action=query&titles=File:'+image+'&prop=imageinfo&iiprop=url&format=json'\n",
    "    \n",
    "    # information about the image\n",
    "    image_info = requests.get(image_info_url)\n",
    "    \n",
    "    # pages which satisfy given image condition in image_info_url\n",
    "    imagepage = image_info.json()['query']['pages']\n",
    "    \n",
    "    #pageid for all pages in imagepage\n",
    "    keys = []\n",
    "    for k in imagepage:\n",
    "        keys.append(k)\n",
    "    \n",
    "    for pageid in keys:\n",
    "        \n",
    "        # url of image in a given page-id\n",
    "        imageurl = imagepage[pageid]['imageinfo'][0]['url']\n",
    "        print(imageurl)\n",
    "        \n",
    "        # downloading the exact iamge\n",
    "        imagefile = requests.get(imageurl)\n",
    "        \n",
    "        try:\n",
    "            \n",
    "            #imagefile_loc = pagename+'/'+image\n",
    "            imagefile_loc = image\n",
    "            file = open(imagefile_loc, 'wb')\n",
    "            file.write(imagefile.content)\n",
    "            print(\"File {} saved\".format(image))\n",
    "        finally:\n",
    "            file.close()\n",
    "    print()"
   ]
  },
  {
   "cell_type": "code",
   "execution_count": null,
   "metadata": {},
   "outputs": [],
   "source": []
  },
  {
   "cell_type": "code",
   "execution_count": 18,
   "metadata": {},
   "outputs": [
    {
     "data": {
      "text/plain": [
       "0"
      ]
     },
     "execution_count": 18,
     "metadata": {},
     "output_type": "execute_result"
    }
   ],
   "source": [
    "os.system('git add ./')\n",
    "\n",
    "os.system('git commit -m \"Migrate wiki to github\"')"
   ]
  },
  {
   "cell_type": "code",
   "execution_count": 19,
   "metadata": {},
   "outputs": [
    {
     "data": {
      "text/plain": [
       "0"
      ]
     },
     "execution_count": 19,
     "metadata": {},
     "output_type": "execute_result"
    }
   ],
   "source": [
    "#checking remote repositories\n",
    "os.system('git remote -v')"
   ]
  },
  {
   "cell_type": "code",
   "execution_count": 20,
   "metadata": {},
   "outputs": [],
   "source": [
    "os.chdir(\"..\")"
   ]
  },
  {
   "cell_type": "code",
   "execution_count": 21,
   "metadata": {},
   "outputs": [],
   "source": [
    "#os.system('git push -u origin master')\n",
    "\n",
    "# not working\n",
    "# I'd rather push manually after verifying everything\n",
    "# or use gitpython library"
   ]
  },
  {
   "cell_type": "code",
   "execution_count": 22,
   "metadata": {},
   "outputs": [
    {
     "data": {
      "text/plain": [
       "0"
      ]
     },
     "execution_count": 22,
     "metadata": {},
     "output_type": "execute_result"
    }
   ],
   "source": [
    "os.system('ls')"
   ]
  }
 ],
 "metadata": {
  "kernelspec": {
   "display_name": "Python 3",
   "language": "python",
   "name": "python3"
  },
  "language_info": {
   "codemirror_mode": {
    "name": "ipython",
    "version": 3
   },
   "file_extension": ".py",
   "mimetype": "text/x-python",
   "name": "python",
   "nbconvert_exporter": "python",
   "pygments_lexer": "ipython3",
   "version": "3.6.4"
  }
 },
 "nbformat": 4,
 "nbformat_minor": 2
}
